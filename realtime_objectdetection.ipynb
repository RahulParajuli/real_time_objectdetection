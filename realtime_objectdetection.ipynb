{
 "cells": [
  {
   "cell_type": "code",
   "execution_count": 1,
   "id": "d1356b78",
   "metadata": {},
   "outputs": [],
   "source": [
    "import cv2"
   ]
  },
  {
   "cell_type": "code",
   "execution_count": 2,
   "id": "a420f1fa",
   "metadata": {},
   "outputs": [],
   "source": [
    "import numpy as np\n",
    "from matplotlib import pyplot as plt\n",
    "import pandas as pd"
   ]
  },
  {
   "cell_type": "code",
   "execution_count": 3,
   "id": "c903b162",
   "metadata": {},
   "outputs": [
    {
     "name": "stderr",
     "output_type": "stream",
     "text": [
      "fatal: destination path 'yolov5' already exists and is not an empty directory.\n"
     ]
    }
   ],
   "source": [
    "!git clone https://github.com/ultralytics/yolov5"
   ]
  },
  {
   "cell_type": "code",
   "execution_count": 4,
   "id": "ad14444e",
   "metadata": {},
   "outputs": [
    {
     "name": "stdout",
     "output_type": "stream",
     "text": [
      "Requirement already satisfied: matplotlib>=3.2.2 in c:\\users\\batman\\anaconda3\\lib\\site-packages (from -r requirements.txt (line 4)) (3.3.4)\n",
      "Requirement already satisfied: numpy>=1.18.5 in c:\\users\\batman\\anaconda3\\lib\\site-packages (from -r requirements.txt (line 5)) (1.20.1)\n",
      "Requirement already satisfied: opencv-python>=4.1.2 in c:\\users\\batman\\anaconda3\\lib\\site-packages (from -r requirements.txt (line 6)) (4.5.4.60)\n",
      "Requirement already satisfied: Pillow>=7.1.2 in c:\\users\\batman\\anaconda3\\lib\\site-packages (from -r requirements.txt (line 7)) (8.2.0)\n",
      "Requirement already satisfied: PyYAML>=5.3.1 in c:\\users\\batman\\anaconda3\\lib\\site-packages (from -r requirements.txt (line 8)) (5.4.1)\n",
      "Requirement already satisfied: requests>=2.23.0 in c:\\users\\batman\\anaconda3\\lib\\site-packages (from -r requirements.txt (line 9)) (2.25.1)\n",
      "Requirement already satisfied: scipy>=1.4.1 in c:\\users\\batman\\anaconda3\\lib\\site-packages (from -r requirements.txt (line 10)) (1.6.2)\n",
      "Requirement already satisfied: torch>=1.7.0 in c:\\users\\batman\\anaconda3\\lib\\site-packages (from -r requirements.txt (line 11)) (1.8.2+cpu)\n",
      "Requirement already satisfied: torchvision>=0.8.1 in c:\\users\\batman\\anaconda3\\lib\\site-packages (from -r requirements.txt (line 12)) (0.9.2+cpu)\n",
      "Requirement already satisfied: tqdm>=4.41.0 in c:\\users\\batman\\anaconda3\\lib\\site-packages (from -r requirements.txt (line 13)) (4.59.0)\n",
      "Requirement already satisfied: tensorboard>=2.4.1 in c:\\users\\batman\\anaconda3\\lib\\site-packages (from -r requirements.txt (line 16)) (2.7.0)\n",
      "Requirement already satisfied: pandas>=1.1.4 in c:\\users\\batman\\anaconda3\\lib\\site-packages (from -r requirements.txt (line 20)) (1.2.4)\n",
      "Requirement already satisfied: seaborn>=0.11.0 in c:\\users\\batman\\anaconda3\\lib\\site-packages (from -r requirements.txt (line 21)) (0.11.1)\n",
      "Requirement already satisfied: thop in c:\\users\\batman\\anaconda3\\lib\\site-packages (from -r requirements.txt (line 36)) (0.0.31.post2005241907)\n",
      "Requirement already satisfied: cycler>=0.10 in c:\\users\\batman\\anaconda3\\lib\\site-packages (from matplotlib>=3.2.2->-r requirements.txt (line 4)) (0.10.0)\n",
      "Requirement already satisfied: kiwisolver>=1.0.1 in c:\\users\\batman\\anaconda3\\lib\\site-packages (from matplotlib>=3.2.2->-r requirements.txt (line 4)) (1.3.1)\n",
      "Requirement already satisfied: python-dateutil>=2.1 in c:\\users\\batman\\anaconda3\\lib\\site-packages (from matplotlib>=3.2.2->-r requirements.txt (line 4)) (2.8.1)\n",
      "Requirement already satisfied: pyparsing!=2.0.4,!=2.1.2,!=2.1.6,>=2.0.3 in c:\\users\\batman\\anaconda3\\lib\\site-packages (from matplotlib>=3.2.2->-r requirements.txt (line 4)) (2.4.7)\n",
      "Requirement already satisfied: pytz>=2017.3 in c:\\users\\batman\\anaconda3\\lib\\site-packages (from pandas>=1.1.4->-r requirements.txt (line 20)) (2021.1)\n",
      "Requirement already satisfied: idna<3,>=2.5 in c:\\users\\batman\\anaconda3\\lib\\site-packages (from requests>=2.23.0->-r requirements.txt (line 9)) (2.10)\n",
      "Requirement already satisfied: urllib3<1.27,>=1.21.1 in c:\\users\\batman\\anaconda3\\lib\\site-packages (from requests>=2.23.0->-r requirements.txt (line 9)) (1.26.4)\n",
      "Requirement already satisfied: certifi>=2017.4.17 in c:\\users\\batman\\anaconda3\\lib\\site-packages (from requests>=2.23.0->-r requirements.txt (line 9)) (2020.12.5)\n",
      "Requirement already satisfied: chardet<5,>=3.0.2 in c:\\users\\batman\\anaconda3\\lib\\site-packages (from requests>=2.23.0->-r requirements.txt (line 9)) (4.0.0)\n",
      "Requirement already satisfied: markdown>=2.6.8 in c:\\users\\batman\\anaconda3\\lib\\site-packages (from tensorboard>=2.4.1->-r requirements.txt (line 16)) (3.3.6)\n",
      "Requirement already satisfied: google-auth-oauthlib<0.5,>=0.4.1 in c:\\users\\batman\\anaconda3\\lib\\site-packages (from tensorboard>=2.4.1->-r requirements.txt (line 16)) (0.4.6)\n",
      "Requirement already satisfied: absl-py>=0.4 in c:\\users\\batman\\anaconda3\\lib\\site-packages (from tensorboard>=2.4.1->-r requirements.txt (line 16)) (1.0.0)\n",
      "Requirement already satisfied: werkzeug>=0.11.15 in c:\\users\\batman\\anaconda3\\lib\\site-packages (from tensorboard>=2.4.1->-r requirements.txt (line 16)) (1.0.1)\n",
      "Requirement already satisfied: wheel>=0.26 in c:\\users\\batman\\anaconda3\\lib\\site-packages (from tensorboard>=2.4.1->-r requirements.txt (line 16)) (0.36.2)\n",
      "Requirement already satisfied: setuptools>=41.0.0 in c:\\users\\batman\\anaconda3\\lib\\site-packages (from tensorboard>=2.4.1->-r requirements.txt (line 16)) (52.0.0.post20210125)\n",
      "Requirement already satisfied: google-auth<3,>=1.6.3 in c:\\users\\batman\\anaconda3\\lib\\site-packages (from tensorboard>=2.4.1->-r requirements.txt (line 16)) (2.3.3)\n",
      "Requirement already satisfied: tensorboard-plugin-wit>=1.6.0 in c:\\users\\batman\\anaconda3\\lib\\site-packages (from tensorboard>=2.4.1->-r requirements.txt (line 16)) (1.8.0)\n",
      "Requirement already satisfied: grpcio>=1.24.3 in c:\\users\\batman\\anaconda3\\lib\\site-packages (from tensorboard>=2.4.1->-r requirements.txt (line 16)) (1.42.0)\n",
      "Requirement already satisfied: protobuf>=3.6.0 in c:\\users\\batman\\anaconda3\\lib\\site-packages (from tensorboard>=2.4.1->-r requirements.txt (line 16)) (3.19.1)\n",
      "Requirement already satisfied: tensorboard-data-server<0.7.0,>=0.6.0 in c:\\users\\batman\\anaconda3\\lib\\site-packages (from tensorboard>=2.4.1->-r requirements.txt (line 16)) (0.6.1)\n",
      "Requirement already satisfied: typing-extensions in c:\\users\\batman\\anaconda3\\lib\\site-packages (from torch>=1.7.0->-r requirements.txt (line 11)) (3.7.4.3)\n",
      "Requirement already satisfied: six in c:\\users\\batman\\anaconda3\\lib\\site-packages (from absl-py>=0.4->tensorboard>=2.4.1->-r requirements.txt (line 16)) (1.15.0)\n",
      "Requirement already satisfied: pyasn1-modules>=0.2.1 in c:\\users\\batman\\anaconda3\\lib\\site-packages (from google-auth<3,>=1.6.3->tensorboard>=2.4.1->-r requirements.txt (line 16)) (0.2.8)\n",
      "Requirement already satisfied: cachetools<5.0,>=2.0.0 in c:\\users\\batman\\anaconda3\\lib\\site-packages (from google-auth<3,>=1.6.3->tensorboard>=2.4.1->-r requirements.txt (line 16)) (4.2.4)\n",
      "Requirement already satisfied: rsa<5,>=3.1.4 in c:\\users\\batman\\anaconda3\\lib\\site-packages (from google-auth<3,>=1.6.3->tensorboard>=2.4.1->-r requirements.txt (line 16)) (4.8)\n",
      "Requirement already satisfied: requests-oauthlib>=0.7.0 in c:\\users\\batman\\anaconda3\\lib\\site-packages (from google-auth-oauthlib<0.5,>=0.4.1->tensorboard>=2.4.1->-r requirements.txt (line 16)) (1.3.0)\n",
      "Requirement already satisfied: importlib-metadata>=4.4 in c:\\users\\batman\\anaconda3\\lib\\site-packages (from markdown>=2.6.8->tensorboard>=2.4.1->-r requirements.txt (line 16)) (4.8.2)\n",
      "Requirement already satisfied: zipp>=0.5 in c:\\users\\batman\\anaconda3\\lib\\site-packages (from importlib-metadata>=4.4->markdown>=2.6.8->tensorboard>=2.4.1->-r requirements.txt (line 16)) (3.4.1)\n",
      "Requirement already satisfied: pyasn1<0.5.0,>=0.4.6 in c:\\users\\batman\\anaconda3\\lib\\site-packages (from pyasn1-modules>=0.2.1->google-auth<3,>=1.6.3->tensorboard>=2.4.1->-r requirements.txt (line 16)) (0.4.8)\n",
      "Requirement already satisfied: oauthlib>=3.0.0 in c:\\users\\batman\\anaconda3\\lib\\site-packages (from requests-oauthlib>=0.7.0->google-auth-oauthlib<0.5,>=0.4.1->tensorboard>=2.4.1->-r requirements.txt (line 16)) (3.1.1)\n"
     ]
    }
   ],
   "source": [
    "!cd yolov5 & pip install -r requirements.txt"
   ]
  },
  {
   "cell_type": "code",
   "execution_count": 5,
   "id": "07b7109c",
   "metadata": {},
   "outputs": [
    {
     "name": "stdout",
     "output_type": "stream",
     "text": [
      "Looking in links: https://download.pytorch.org/whl/lts/1.8/torch_lts.html\n",
      "Requirement already satisfied: torch==1.8.2+cpu in c:\\users\\batman\\anaconda3\\lib\\site-packages (1.8.2+cpu)\n",
      "Requirement already satisfied: torchvision==0.9.2+cpu in c:\\users\\batman\\anaconda3\\lib\\site-packages (0.9.2+cpu)\n",
      "Requirement already satisfied: torchaudio===0.8.2 in c:\\users\\batman\\anaconda3\\lib\\site-packages (0.8.2)\n",
      "Requirement already satisfied: typing-extensions in c:\\users\\batman\\anaconda3\\lib\\site-packages (from torch==1.8.2+cpu) (3.7.4.3)\n",
      "Requirement already satisfied: numpy in c:\\users\\batman\\anaconda3\\lib\\site-packages (from torch==1.8.2+cpu) (1.20.1)\n",
      "Requirement already satisfied: pillow>=4.1.1 in c:\\users\\batman\\anaconda3\\lib\\site-packages (from torchvision==0.9.2+cpu) (8.2.0)\n"
     ]
    }
   ],
   "source": [
    "!pip install torch==1.8.2+cpu torchvision==0.9.2+cpu torchaudio===0.8.2 -f https://download.pytorch.org/whl/lts/1.8/torch_lts.html"
   ]
  },
  {
   "cell_type": "code",
   "execution_count": 6,
   "id": "294150b6",
   "metadata": {},
   "outputs": [],
   "source": [
    "import torch\n",
    "from matplotlib import pyplot as plt\n",
    "import numpy as np"
   ]
  },
  {
   "cell_type": "code",
   "execution_count": 7,
   "id": "8ac0b5ec",
   "metadata": {},
   "outputs": [],
   "source": [
    "image = 'https://i.ytimg.com/vi/eqoW2M2IHpg/maxresdefault.jpg'"
   ]
  },
  {
   "cell_type": "code",
   "execution_count": 8,
   "id": "01e359cf",
   "metadata": {},
   "outputs": [
    {
     "name": "stderr",
     "output_type": "stream",
     "text": [
      "Using cache found in C:\\Users\\batman/.cache\\torch\\hub\\ultralytics_yolov5_master\n",
      "YOLOv5  2021-11-29 torch 1.8.2+cpu CPU\n",
      "\n",
      "Fusing layers... \n",
      "Model Summary: 213 layers, 7225885 parameters, 0 gradients\n",
      "Adding AutoShape... \n"
     ]
    }
   ],
   "source": [
    "model = torch.hub.load('ultralytics/yolov5','yolov5s')"
   ]
  },
  {
   "cell_type": "code",
   "execution_count": 9,
   "id": "d27c25b8",
   "metadata": {},
   "outputs": [],
   "source": [
    "cap = cv2.VideoCapture(0)\n",
    "while cap.isOpened():\n",
    "  ret, frame = cap.read()\n",
    "  result = model(frame)\n",
    "  cv2.imshow('smile please',np.squeeze(result.render()))\n",
    "  if cv2.waitKey(10) & 0xFF==ord('q'):\n",
    "    break\n",
    "cap.release()\n",
    "cv2.destroyAllWindows()"
   ]
  },
  {
   "cell_type": "code",
   "execution_count": null,
   "id": "8b71aba3",
   "metadata": {},
   "outputs": [],
   "source": []
  },
  {
   "cell_type": "code",
   "execution_count": null,
   "id": "ced5d594",
   "metadata": {},
   "outputs": [],
   "source": []
  },
  {
   "cell_type": "code",
   "execution_count": null,
   "id": "e6fd4f5a",
   "metadata": {},
   "outputs": [],
   "source": []
  }
 ],
 "metadata": {
  "kernelspec": {
   "display_name": "Python 3",
   "language": "python",
   "name": "python3"
  },
  "language_info": {
   "codemirror_mode": {
    "name": "ipython",
    "version": 3
   },
   "file_extension": ".py",
   "mimetype": "text/x-python",
   "name": "python",
   "nbconvert_exporter": "python",
   "pygments_lexer": "ipython3",
   "version": "3.8.8"
  }
 },
 "nbformat": 4,
 "nbformat_minor": 5
}
